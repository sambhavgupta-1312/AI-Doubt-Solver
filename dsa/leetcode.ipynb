{
 "cells": [
  {
   "cell_type": "code",
   "execution_count": 1,
   "metadata": {},
   "outputs": [],
   "source": [
    "from leetscrape.questions_list import GetQuestionsList\n",
    "from leetscrape.extract_solution import ExtractSolutions\n",
    "from leetscrape.utils import combine_list_and_info, get_all_questions_body"
   ]
  },
  {
   "cell_type": "code",
   "execution_count": 3,
   "metadata": {},
   "outputs": [
    {
     "name": "stdout",
     "output_type": "stream",
     "text": [
      "Scraping companies ... Done\n",
      "Scraping questions list ... Done\n",
      "Extracting question topics ... Done\n",
      "Getting Categories ... Done\n",
      "Scraping Topic Tags ... Done\n",
      "Extracting question category ... Done\n"
     ]
    }
   ],
   "source": [
    "ls = GetQuestionsList()\n",
    "ls.scrape()"
   ]
  },
  {
   "cell_type": "code",
   "execution_count": 4,
   "metadata": {},
   "outputs": [
    {
     "data": {
      "text/html": [
       "<div>\n",
       "<style scoped>\n",
       "    .dataframe tbody tr th:only-of-type {\n",
       "        vertical-align: middle;\n",
       "    }\n",
       "\n",
       "    .dataframe tbody tr th {\n",
       "        vertical-align: top;\n",
       "    }\n",
       "\n",
       "    .dataframe thead th {\n",
       "        text-align: right;\n",
       "    }\n",
       "</style>\n",
       "<table border=\"1\" class=\"dataframe\">\n",
       "  <thead>\n",
       "    <tr style=\"text-align: right;\">\n",
       "      <th></th>\n",
       "      <th>QID</th>\n",
       "      <th>title</th>\n",
       "      <th>titleSlug</th>\n",
       "      <th>difficulty</th>\n",
       "      <th>acceptanceRate</th>\n",
       "      <th>paidOnly</th>\n",
       "      <th>topicTags</th>\n",
       "      <th>categorySlug</th>\n",
       "    </tr>\n",
       "  </thead>\n",
       "  <tbody>\n",
       "    <tr>\n",
       "      <th>0</th>\n",
       "      <td>1</td>\n",
       "      <td>Two Sum</td>\n",
       "      <td>two-sum</td>\n",
       "      <td>Easy</td>\n",
       "      <td>54.256371</td>\n",
       "      <td>False</td>\n",
       "      <td>array,hash-table</td>\n",
       "      <td>algorithms</td>\n",
       "    </tr>\n",
       "    <tr>\n",
       "      <th>1</th>\n",
       "      <td>2</td>\n",
       "      <td>Add Two Numbers</td>\n",
       "      <td>add-two-numbers</td>\n",
       "      <td>Medium</td>\n",
       "      <td>44.630790</td>\n",
       "      <td>False</td>\n",
       "      <td>linked-list,math,recursion</td>\n",
       "      <td>algorithms</td>\n",
       "    </tr>\n",
       "  </tbody>\n",
       "</table>\n",
       "</div>"
      ],
      "text/plain": [
       "  QID            title        titleSlug difficulty  acceptanceRate  paidOnly  \\\n",
       "0   1          Two Sum          two-sum       Easy       54.256371     False   \n",
       "1   2  Add Two Numbers  add-two-numbers     Medium       44.630790     False   \n",
       "\n",
       "                    topicTags categorySlug  \n",
       "0            array,hash-table   algorithms  \n",
       "1  linked-list,math,recursion   algorithms  "
      ]
     },
     "execution_count": 4,
     "metadata": {},
     "output_type": "execute_result"
    }
   ],
   "source": [
    "ls.questions.head(2)"
   ]
  },
  {
   "cell_type": "code",
   "execution_count": 5,
   "metadata": {},
   "outputs": [],
   "source": [
    "from leetscrape import GetQuestion\n",
    "\n",
    "# Get the question body\n",
    "question = GetQuestion(titleSlug=\"two-sum\").scrape()"
   ]
  },
  {
   "cell_type": "code",
   "execution_count": 9,
   "metadata": {},
   "outputs": [
    {
     "data": {
      "text/plain": [
       "[\"A really brute force way would be to search for all possible pairs of numbers but that would be too slow. Again, it's best to try out brute force solutions for just for completeness. It is from these brute force solutions that you can come up with optimizations.\",\n",
       " 'So, if we fix one of the numbers, say <code>x</code>, we have to scan the entire array to find the next number <code>y</code> which is <code>value - x</code> where value is the input parameter. Can we change our array somehow so that this search becomes faster?',\n",
       " 'The second train of thought is, without changing the array, can we use additional space somehow? Like maybe a hash map to speed up the search?']"
      ]
     },
     "execution_count": 9,
     "metadata": {},
     "output_type": "execute_result"
    }
   ],
   "source": [
    "question.Hints"
   ]
  },
  {
   "cell_type": "code",
   "execution_count": 12,
   "metadata": {},
   "outputs": [
    {
     "name": "stdout",
     "output_type": "stream",
     "text": [
      "Generating code stub for 1. two-sum\n",
      "Code stub save to q_0001_twoSum.py\n",
      "Test file written to test_q_0001_twoSum.py.py\n"
     ]
    }
   ],
   "source": [
    "from leetscrape import GenerateCodeStub   #gives coding platform with test cases\n",
    "\n",
    "# Get the question body\n",
    "fcs = GenerateCodeStub(titleSlug=\"two-sum\")\n",
    "fcs.generate(directory=\"sol\")\n",
    "#this code will give me 2 files in sol directory namely q_0001_twoSum.py and test_q_0001_twoSum.py.\n",
    "#  i want you to display q_0001_twoSum.py file contents on an editable space where user can write his code by editting this file.\n",
    "#  then there will be a submit button. \n",
    "#if submit is clicked, the test_q_001... file should be runned by typing 'pytest filename' in terminal. its output should be displayed."
   ]
  },
  {
   "cell_type": "code",
   "execution_count": 19,
   "metadata": {},
   "outputs": [],
   "source": [
    "from leetscrape import ExtractSolutions\n",
    "\n",
    "# Get the question body\n",
    "solutions = ExtractSolutions(filename=\"sol/q_0001_twoSum.py\").extract()"
   ]
  },
  {
   "cell_type": "code",
   "execution_count": 20,
   "metadata": {},
   "outputs": [
    {
     "data": {
      "text/plain": [
       "[1.\n",
       "     def twoSum(self, nums: list[int], target: int) -> list[int]:\n",
       "         num_to_index = {}\n",
       "         for i, num in enumerate(nums):\n",
       "             complement = target\n",
       "             if complement in num_to_index:\n",
       "                 return [num_to_index[complement], i]\n",
       "             num_to_index[num] = i\n",
       " ]"
      ]
     },
     "execution_count": 20,
     "metadata": {},
     "output_type": "execute_result"
    }
   ],
   "source": [
    "solutions"
   ]
  },
  {
   "cell_type": "code",
   "execution_count": null,
   "metadata": {},
   "outputs": [],
   "source": []
  }
 ],
 "metadata": {
  "kernelspec": {
   "display_name": "Python 3",
   "language": "python",
   "name": "python3"
  },
  "language_info": {
   "codemirror_mode": {
    "name": "ipython",
    "version": 3
   },
   "file_extension": ".py",
   "mimetype": "text/x-python",
   "name": "python",
   "nbconvert_exporter": "python",
   "pygments_lexer": "ipython3",
   "version": "3.11.3"
  }
 },
 "nbformat": 4,
 "nbformat_minor": 2
}
